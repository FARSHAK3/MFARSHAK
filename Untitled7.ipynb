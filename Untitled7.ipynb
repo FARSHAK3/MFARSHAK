{
  "nbformat": 4,
  "nbformat_minor": 0,
  "metadata": {
    "colab": {
      "name": "Untitled7.ipynb",
      "provenance": [],
      "authorship_tag": "ABX9TyOW1zoIb7CrJEMLbr/DRt+7",
      "include_colab_link": true
    },
    "kernelspec": {
      "name": "python3",
      "display_name": "Python 3"
    },
    "language_info": {
      "name": "python"
    }
  },
  "cells": [
    {
      "cell_type": "markdown",
      "metadata": {
        "id": "view-in-github",
        "colab_type": "text"
      },
      "source": [
        "<a href=\"https://colab.research.google.com/github/FARSHAK3/MFARSHAK/blob/main/Untitled7.ipynb\" target=\"_parent\"><img src=\"https://colab.research.google.com/assets/colab-badge.svg\" alt=\"Open In Colab\"/></a>"
      ]
    },
    {
      "cell_type": "code",
      "execution_count": 1,
      "metadata": {
        "colab": {
          "base_uri": "https://localhost:8080/"
        },
        "id": "CvcVzYkseY63",
        "outputId": "8f0c7257-23ac-4b8d-f3ff-fc452e92dfad"
      },
      "outputs": [
        {
          "output_type": "stream",
          "name": "stdout",
          "text": [
            "Choice 1:Add, 2:Sub, 3:Div, 4:Mul, 5:Quit\n",
            "Enter the choice of operation : 4\n",
            "you have choosen multiplication operation.\n",
            "Enter the value for A: 3\n",
            "Enter the value for B: 5\n",
            "The Result 3 * 5 = 15\n"
          ]
        }
      ],
      "source": [
        "#operation program\n",
        "print(\"Choice 1:Add, 2:Sub, 3:Div, 4:Mul, 5:Quit\")\n",
        "n1=input(\"Enter the choice of operation : \")\n",
        "n=int(n1)\n",
        "if(n==1):\n",
        "  print(\"You have choosen addition operation.\")\n",
        "  a1=input(\"Enter the value for A: \")\n",
        "  b1=input(\"Enter the value for B: \")\n",
        "  a=int(a1)\n",
        "  b=int(b1)\n",
        "  c=a+b\n",
        "  print(\"The Result\",a,\"+\",b,\"=\",c)\n",
        "elif(n==2):\n",
        "  print(\"you have choosen subtraction operation.\")\n",
        "  a1=input(\"Enter the value for A: \")\n",
        "  b1=input(\"Enter the value for B: \")\n",
        "  a=int(a1)\n",
        "  b=int(b1)\n",
        "  c=a-b\n",
        "  print(\"The Result\",a,\"-\",b,\"=\",c)\n",
        "elif(n==3):\n",
        "  print(\"you have choosen division operation.\")\n",
        "  a1=input(\"Enter thr value for A: \")\n",
        "  b1=input(\"Enter the value for B: \")\n",
        "  a=int(a1)\n",
        "  b=int(b1)\n",
        "  c=a/b\n",
        "  print(\"The Result\",a,\"/\",b,\"=\",c)\n",
        "elif(n==4):\n",
        "  print(\"you have choosen multiplication operation.\")\n",
        "  a1=input(\"Enter the value for A: \")\n",
        "  b1=input(\"Enter the value for B: \")\n",
        "  a=int(a1)\n",
        "  b=int(b1)\n",
        "  c=a*b\n",
        "  print(\"The Result\",a,\"*\",b,\"=\",c)\n",
        "elif(n==5):\n",
        "  print(\"quit the operation\")\n",
        "  exit()"
      ]
    },
    {
      "cell_type": "code",
      "source": [
        "#fibonacci series\n",
        "print(\"Fibonacci Series\")\n",
        "n1=input(\"Enter the number: \")\n",
        "n=int(n1)\n",
        "if(n>0):\n",
        "  f=0\n",
        "  s=1\n",
        "  i=0\n",
        "  next=0\n",
        "  while(1):\n",
        "    print(\"\\n\\n*******************************************\")\n",
        "    for i in range(n+1):\n",
        "      if(i<=1):\n",
        "        print(i)\n",
        "      else:\n",
        "        next=f+s\n",
        "        f=s\n",
        "        s=next\n",
        "        print(next)\n",
        "    i=i+1\n",
        "    break\n",
        "else:\n",
        "  print(\"you have entered wrong input\",n)\n",
        "  exit()"
      ],
      "metadata": {
        "colab": {
          "base_uri": "https://localhost:8080/"
        },
        "id": "dnMM83jPekJy",
        "outputId": "0a9021ee-c7b9-4f82-d13b-9e9d01186142"
      },
      "execution_count": 2,
      "outputs": [
        {
          "output_type": "stream",
          "name": "stdout",
          "text": [
            "Fibonacci Series\n",
            "Enter the number: 4\n",
            "\n",
            "\n",
            "*******************************************\n",
            "0\n",
            "1\n",
            "1\n",
            "2\n",
            "3\n"
          ]
        }
      ]
    },
    {
      "cell_type": "code",
      "source": [
        "#arithmetic operation\n",
        "value1=eval(input(\"Enter the first number: \"))\n",
        "value2=eval(input(\"Enter the second number: \"))\n",
        "sum=value1+value2\n",
        "print(value1,'+',value2,'=',sum)"
      ],
      "metadata": {
        "colab": {
          "base_uri": "https://localhost:8080/"
        },
        "id": "w_8Dd2NreyZH",
        "outputId": "93106484-8e3d-419e-a3a1-4d1d009483f3"
      },
      "execution_count": 3,
      "outputs": [
        {
          "output_type": "stream",
          "name": "stdout",
          "text": [
            "Enter the first number: 4\n",
            "Enter the second number: 7\n",
            "4 + 7 = 11\n"
          ]
        }
      ]
    },
    {
      "cell_type": "code",
      "source": [
        "#arithmetic operators\n",
        "x=30\n",
        "y=24\n",
        "print('x+y=',x+y)\n",
        "print('x-y=',x-y)\n",
        "print('x*y=',x*y)\n",
        "print('x/y=',x/y)\n",
        "print('x//y=',x//y)\n",
        "print('x**y=',x**y)"
      ],
      "metadata": {
        "colab": {
          "base_uri": "https://localhost:8080/"
        },
        "id": "g_CQ1R8be6sF",
        "outputId": "ae123cdf-5a78-4402-b825-ce77baee8905"
      },
      "execution_count": 4,
      "outputs": [
        {
          "output_type": "stream",
          "name": "stdout",
          "text": [
            "x+y= 54\n",
            "x-y= 6\n",
            "x*y= 720\n",
            "x/y= 1.25\n",
            "x//y= 1\n",
            "x**y= 282429536481000000000000000000000000\n"
          ]
        }
      ]
    },
    {
      "cell_type": "code",
      "source": [
        "#comparsion operators\n",
        "x=10\n",
        "y=5\n",
        "print(\"x > y is\",x>y)\n",
        "print(\"x < y is\",x<y)\n",
        "print(\"x == y is\",x==y)\n",
        "print(\"x != y is\",x!=y)\n",
        "print(\"x >= y is\",x>=y)\n",
        "print(\"x <= y is\",x<=y)"
      ],
      "metadata": {
        "colab": {
          "base_uri": "https://localhost:8080/"
        },
        "id": "SRTisPWdfCQi",
        "outputId": "8fb44176-7c45-49e6-c7ad-f3a6ad2729d4"
      },
      "execution_count": 5,
      "outputs": [
        {
          "output_type": "stream",
          "name": "stdout",
          "text": [
            "x > y is True\n",
            "x < y is False\n",
            "x == y is False\n",
            "x != y is True\n",
            "x >= y is True\n",
            "x <= y is False\n"
          ]
        }
      ]
    },
    {
      "cell_type": "code",
      "source": [
        "#logical operators\n",
        "x=True\n",
        "y=False\n",
        "print(\"x and y is\", x and y)\n",
        "print(\"x or y is\", x or y)\n",
        "print(\"not x is\",  not x)"
      ],
      "metadata": {
        "colab": {
          "base_uri": "https://localhost:8080/"
        },
        "id": "fYiyMWkQfIHy",
        "outputId": "73500cda-f944-40d5-d124-d852f21ca010"
      },
      "execution_count": 6,
      "outputs": [
        {
          "output_type": "stream",
          "name": "stdout",
          "text": [
            "x and y is False\n",
            "x or y is True\n",
            "not x is False\n"
          ]
        }
      ]
    },
    {
      "cell_type": "code",
      "source": [
        "#identity operators\n",
        "x1=5\n",
        "y1=5\n",
        "x2='Hello'\n",
        "y2='Hello'\n",
        "x3=[1,2,3]\n",
        "y3=[1,2,3]\n",
        "print(x1 is not y1)\n",
        "print(x2 is y2)\n",
        "print(x3 is not y3)"
      ],
      "metadata": {
        "colab": {
          "base_uri": "https://localhost:8080/"
        },
        "id": "Jh0eBv5ifMv3",
        "outputId": "cf87dcc7-060f-4ec0-cb20-7f6445713782"
      },
      "execution_count": 7,
      "outputs": [
        {
          "output_type": "stream",
          "name": "stdout",
          "text": [
            "False\n",
            "True\n",
            "True\n"
          ]
        }
      ]
    },
    {
      "cell_type": "code",
      "source": [
        "#membership operators\n",
        "x='Hello World'\n",
        "y={1:'a',2:'b'}\n",
        "print('E' in x)\n",
        "print(\"hello\" not in x)\n",
        "print(2 in y)\n",
        "print('a' in y)"
      ],
      "metadata": {
        "colab": {
          "base_uri": "https://localhost:8080/"
        },
        "id": "SXq0l22CfRlF",
        "outputId": "c6639803-1ad4-410c-c948-9bd8b72c1b2d"
      },
      "execution_count": 8,
      "outputs": [
        {
          "output_type": "stream",
          "name": "stdout",
          "text": [
            "False\n",
            "True\n",
            "True\n",
            "False\n"
          ]
        }
      ]
    },
    {
      "cell_type": "code",
      "source": [
        ""
      ],
      "metadata": {
        "id": "o27FTOFBfWxs"
      },
      "execution_count": null,
      "outputs": []
    }
  ]
}